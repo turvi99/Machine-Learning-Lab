{
  "nbformat": 4,
  "nbformat_minor": 0,
  "metadata": {
    "colab": {
      "provenance": []
    },
    "kernelspec": {
      "name": "python3",
      "display_name": "Python 3"
    },
    "language_info": {
      "name": "python"
    }
  },
  "cells": [
    {
      "cell_type": "code",
      "execution_count": 1,
      "metadata": {
        "colab": {
          "base_uri": "https://localhost:8080/"
        },
        "id": "iixzHslds_Uq",
        "outputId": "38404321-3d5f-483d-e84b-4d1f7f4c0fce"
      },
      "outputs": [
        {
          "output_type": "stream",
          "name": "stdout",
          "text": [
            "Iter: 1, Loss: 13.350312\n",
            "Iter: 50, Loss: 10.126187\n",
            "Iter: 100, Loss: 7.669946\n",
            "Iter: 150, Loss: 5.841451\n",
            "Iter: 200, Loss: 4.480010\n",
            "Iter: 250, Loss: 3.466134\n",
            "Iter: 300, Loss: 2.710953\n",
            "Iter: 350, Loss: 2.148357\n",
            "Iter: 400, Loss: 1.729158\n",
            "Iter: 450, Loss: 1.416750\n",
            "Iter: 500, Loss: 1.183888\n",
            "\n",
            "Final Weights:\n",
            " [[ 0.29081532]\n",
            " [-2.08333445]]\n",
            "Final Bias:\n",
            " 0.590745131313696\n"
          ]
        }
      ],
      "source": [
        "import numpy as np\n",
        "\n",
        "# ---------------------------\n",
        "# Data Generator\n",
        "# ---------------------------\n",
        "def generate_examples(num=1000):\n",
        "    W = np.array([[1.0], [-3.0]])   # true weights\n",
        "    b = 1.0                         # true bias\n",
        "    x = np.random.randn(num, 2)     # (num,2) features\n",
        "    noise = np.random.randn(num, 1) # per-sample noise\n",
        "    y = b + x @ W + noise           # linear relation + noise\n",
        "    return x, y\n",
        "\n",
        "\n",
        "# ---------------------------\n",
        "# Linear Regression Model\n",
        "# ---------------------------\n",
        "class Model:\n",
        "    def __init__(self, num_features):\n",
        "        self.num_features = num_features\n",
        "        self.W = np.random.randn(num_features, 1)\n",
        "        self.b = np.random.randn()\n",
        "\n",
        "    def forward_pass(self, x):\n",
        "        return self.b + x @ self.W\n",
        "\n",
        "    def compute_loss(self, y_hat, y_true):\n",
        "        m = y_hat.shape[0]\n",
        "        return np.sum((y_hat - y_true) ** 2) / (2 * m)\n",
        "\n",
        "    def backward_pass(self, x, y_true, y_hat):\n",
        "        m   = y_true.shape[0]\n",
        "        err = y_hat - y_true          # (m,1)\n",
        "        dW  = (x.T @ err) / m         # (n,1)\n",
        "        db  = np.sum(err) / m         # scalar\n",
        "        return dW, db\n",
        "\n",
        "    def update_params(self, dW, db, lr):\n",
        "        self.W -= lr * dW\n",
        "        self.b -= lr * db\n",
        "\n",
        "    def train(self, x_train, y_train, iterations=1000, lr=1e-3, log=True):\n",
        "        losses = []\n",
        "        log_every = max(iterations // 10, 1)\n",
        "\n",
        "        for i in range(1, iterations + 1):   # start from 1\n",
        "            y_hat = self.forward_pass(x_train)\n",
        "            loss = self.compute_loss(y_hat, y_train)\n",
        "            dW, db = self.backward_pass(x_train, y_train, y_hat)\n",
        "            self.update_params(dW, db, lr)\n",
        "\n",
        "            losses.append(loss)\n",
        "\n",
        "            if log and (i % log_every == 0 or i == 1):\n",
        "                print(f\"Iter: {i}, Loss: {float(loss):.6f}\")\n",
        "\n",
        "        return losses\n",
        "\n",
        "\n",
        "# ---------------------------\n",
        "# Training Example\n",
        "# ---------------------------\n",
        "x_train, y_train = generate_examples(1000)\n",
        "model = Model(num_features=2)\n",
        "\n",
        "losses = model.train(x_train, y_train, iterations=500, lr=3e-3)\n",
        "\n",
        "print(\"\\nFinal Weights:\\n\", model.W)\n",
        "print(\"Final Bias:\\n\", model.b)\n"
      ]
    }
  ]
}